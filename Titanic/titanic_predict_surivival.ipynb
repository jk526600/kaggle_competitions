{
 "cells": [
  {
   "cell_type": "markdown",
   "metadata": {},
   "source": [
    "# Titanic - Machine Learning from Disaster\n",
    "## Predict survival on the Titanic and get familiar with ML basics"
   ]
  },
  {
   "cell_type": "code",
   "execution_count": 1,
   "metadata": {},
   "outputs": [],
   "source": [
    "#import necessary libraries\n",
    "\n",
    "#general libraries\n",
    "import pandas as pd\n",
    "import numpy as np\n",
    "import matplotlib.pyplot as plt\n",
    "import seaborn as sns\n",
    "\n",
    "#data preprocessing\n",
    "from sklearn.preprocessing import StandardScaler\n",
    "\n",
    "#machine learning algorithms\n",
    "from sklearn.model_selection import GridSearchCV\n",
    "from sklearn.linear_model import LogisticRegression\n",
    "from sklearn.svm import SVC\n",
    "from sklearn.ensemble import RandomForestClassifier\n",
    "import xgboost as xgb\n",
    "from sklearn.ensemble import VotingClassifier\n",
    "\n",
    "#model evaluation\n",
    "from sklearn.model_selection import cross_val_score, cross_validate\n",
    "\n",
    "\n"
   ]
  },
  {
   "cell_type": "markdown",
   "metadata": {},
   "source": [
    "### Data Exploration"
   ]
  },
  {
   "cell_type": "code",
   "execution_count": 2,
   "metadata": {},
   "outputs": [
    {
     "data": {
      "text/html": [
       "<div>\n",
       "<style scoped>\n",
       "    .dataframe tbody tr th:only-of-type {\n",
       "        vertical-align: middle;\n",
       "    }\n",
       "\n",
       "    .dataframe tbody tr th {\n",
       "        vertical-align: top;\n",
       "    }\n",
       "\n",
       "    .dataframe thead th {\n",
       "        text-align: right;\n",
       "    }\n",
       "</style>\n",
       "<table border=\"1\" class=\"dataframe\">\n",
       "  <thead>\n",
       "    <tr style=\"text-align: right;\">\n",
       "      <th></th>\n",
       "      <th>PassengerId</th>\n",
       "      <th>Survived</th>\n",
       "      <th>Pclass</th>\n",
       "      <th>Name</th>\n",
       "      <th>Sex</th>\n",
       "      <th>Age</th>\n",
       "      <th>SibSp</th>\n",
       "      <th>Parch</th>\n",
       "      <th>Ticket</th>\n",
       "      <th>Fare</th>\n",
       "      <th>Cabin</th>\n",
       "      <th>Embarked</th>\n",
       "    </tr>\n",
       "  </thead>\n",
       "  <tbody>\n",
       "    <tr>\n",
       "      <th>0</th>\n",
       "      <td>1</td>\n",
       "      <td>0</td>\n",
       "      <td>3</td>\n",
       "      <td>Braund, Mr. Owen Harris</td>\n",
       "      <td>male</td>\n",
       "      <td>22.0</td>\n",
       "      <td>1</td>\n",
       "      <td>0</td>\n",
       "      <td>A/5 21171</td>\n",
       "      <td>7.2500</td>\n",
       "      <td>NaN</td>\n",
       "      <td>S</td>\n",
       "    </tr>\n",
       "    <tr>\n",
       "      <th>1</th>\n",
       "      <td>2</td>\n",
       "      <td>1</td>\n",
       "      <td>1</td>\n",
       "      <td>Cumings, Mrs. John Bradley (Florence Briggs Th...</td>\n",
       "      <td>female</td>\n",
       "      <td>38.0</td>\n",
       "      <td>1</td>\n",
       "      <td>0</td>\n",
       "      <td>PC 17599</td>\n",
       "      <td>71.2833</td>\n",
       "      <td>C85</td>\n",
       "      <td>C</td>\n",
       "    </tr>\n",
       "    <tr>\n",
       "      <th>2</th>\n",
       "      <td>3</td>\n",
       "      <td>1</td>\n",
       "      <td>3</td>\n",
       "      <td>Heikkinen, Miss. Laina</td>\n",
       "      <td>female</td>\n",
       "      <td>26.0</td>\n",
       "      <td>0</td>\n",
       "      <td>0</td>\n",
       "      <td>STON/O2. 3101282</td>\n",
       "      <td>7.9250</td>\n",
       "      <td>NaN</td>\n",
       "      <td>S</td>\n",
       "    </tr>\n",
       "    <tr>\n",
       "      <th>3</th>\n",
       "      <td>4</td>\n",
       "      <td>1</td>\n",
       "      <td>1</td>\n",
       "      <td>Futrelle, Mrs. Jacques Heath (Lily May Peel)</td>\n",
       "      <td>female</td>\n",
       "      <td>35.0</td>\n",
       "      <td>1</td>\n",
       "      <td>0</td>\n",
       "      <td>113803</td>\n",
       "      <td>53.1000</td>\n",
       "      <td>C123</td>\n",
       "      <td>S</td>\n",
       "    </tr>\n",
       "    <tr>\n",
       "      <th>4</th>\n",
       "      <td>5</td>\n",
       "      <td>0</td>\n",
       "      <td>3</td>\n",
       "      <td>Allen, Mr. William Henry</td>\n",
       "      <td>male</td>\n",
       "      <td>35.0</td>\n",
       "      <td>0</td>\n",
       "      <td>0</td>\n",
       "      <td>373450</td>\n",
       "      <td>8.0500</td>\n",
       "      <td>NaN</td>\n",
       "      <td>S</td>\n",
       "    </tr>\n",
       "  </tbody>\n",
       "</table>\n",
       "</div>"
      ],
      "text/plain": [
       "   PassengerId  Survived  Pclass  \\\n",
       "0            1         0       3   \n",
       "1            2         1       1   \n",
       "2            3         1       3   \n",
       "3            4         1       1   \n",
       "4            5         0       3   \n",
       "\n",
       "                                                Name     Sex   Age  SibSp  \\\n",
       "0                            Braund, Mr. Owen Harris    male  22.0      1   \n",
       "1  Cumings, Mrs. John Bradley (Florence Briggs Th...  female  38.0      1   \n",
       "2                             Heikkinen, Miss. Laina  female  26.0      0   \n",
       "3       Futrelle, Mrs. Jacques Heath (Lily May Peel)  female  35.0      1   \n",
       "4                           Allen, Mr. William Henry    male  35.0      0   \n",
       "\n",
       "   Parch            Ticket     Fare Cabin Embarked  \n",
       "0      0         A/5 21171   7.2500   NaN        S  \n",
       "1      0          PC 17599  71.2833   C85        C  \n",
       "2      0  STON/O2. 3101282   7.9250   NaN        S  \n",
       "3      0            113803  53.1000  C123        S  \n",
       "4      0            373450   8.0500   NaN        S  "
      ]
     },
     "metadata": {},
     "output_type": "display_data"
    },
    {
     "data": {
      "text/html": [
       "<div>\n",
       "<style scoped>\n",
       "    .dataframe tbody tr th:only-of-type {\n",
       "        vertical-align: middle;\n",
       "    }\n",
       "\n",
       "    .dataframe tbody tr th {\n",
       "        vertical-align: top;\n",
       "    }\n",
       "\n",
       "    .dataframe thead th {\n",
       "        text-align: right;\n",
       "    }\n",
       "</style>\n",
       "<table border=\"1\" class=\"dataframe\">\n",
       "  <thead>\n",
       "    <tr style=\"text-align: right;\">\n",
       "      <th></th>\n",
       "      <th>PassengerId</th>\n",
       "      <th>Survived</th>\n",
       "      <th>Pclass</th>\n",
       "      <th>Age</th>\n",
       "      <th>SibSp</th>\n",
       "      <th>Parch</th>\n",
       "      <th>Fare</th>\n",
       "    </tr>\n",
       "  </thead>\n",
       "  <tbody>\n",
       "    <tr>\n",
       "      <th>count</th>\n",
       "      <td>891.000000</td>\n",
       "      <td>891.000000</td>\n",
       "      <td>891.000000</td>\n",
       "      <td>714.000000</td>\n",
       "      <td>891.000000</td>\n",
       "      <td>891.000000</td>\n",
       "      <td>891.000000</td>\n",
       "    </tr>\n",
       "    <tr>\n",
       "      <th>mean</th>\n",
       "      <td>446.000000</td>\n",
       "      <td>0.383838</td>\n",
       "      <td>2.308642</td>\n",
       "      <td>29.699118</td>\n",
       "      <td>0.523008</td>\n",
       "      <td>0.381594</td>\n",
       "      <td>32.204208</td>\n",
       "    </tr>\n",
       "    <tr>\n",
       "      <th>std</th>\n",
       "      <td>257.353842</td>\n",
       "      <td>0.486592</td>\n",
       "      <td>0.836071</td>\n",
       "      <td>14.526497</td>\n",
       "      <td>1.102743</td>\n",
       "      <td>0.806057</td>\n",
       "      <td>49.693429</td>\n",
       "    </tr>\n",
       "    <tr>\n",
       "      <th>min</th>\n",
       "      <td>1.000000</td>\n",
       "      <td>0.000000</td>\n",
       "      <td>1.000000</td>\n",
       "      <td>0.420000</td>\n",
       "      <td>0.000000</td>\n",
       "      <td>0.000000</td>\n",
       "      <td>0.000000</td>\n",
       "    </tr>\n",
       "    <tr>\n",
       "      <th>25%</th>\n",
       "      <td>223.500000</td>\n",
       "      <td>0.000000</td>\n",
       "      <td>2.000000</td>\n",
       "      <td>20.125000</td>\n",
       "      <td>0.000000</td>\n",
       "      <td>0.000000</td>\n",
       "      <td>7.910400</td>\n",
       "    </tr>\n",
       "    <tr>\n",
       "      <th>50%</th>\n",
       "      <td>446.000000</td>\n",
       "      <td>0.000000</td>\n",
       "      <td>3.000000</td>\n",
       "      <td>28.000000</td>\n",
       "      <td>0.000000</td>\n",
       "      <td>0.000000</td>\n",
       "      <td>14.454200</td>\n",
       "    </tr>\n",
       "    <tr>\n",
       "      <th>75%</th>\n",
       "      <td>668.500000</td>\n",
       "      <td>1.000000</td>\n",
       "      <td>3.000000</td>\n",
       "      <td>38.000000</td>\n",
       "      <td>1.000000</td>\n",
       "      <td>0.000000</td>\n",
       "      <td>31.000000</td>\n",
       "    </tr>\n",
       "    <tr>\n",
       "      <th>max</th>\n",
       "      <td>891.000000</td>\n",
       "      <td>1.000000</td>\n",
       "      <td>3.000000</td>\n",
       "      <td>80.000000</td>\n",
       "      <td>8.000000</td>\n",
       "      <td>6.000000</td>\n",
       "      <td>512.329200</td>\n",
       "    </tr>\n",
       "  </tbody>\n",
       "</table>\n",
       "</div>"
      ],
      "text/plain": [
       "       PassengerId    Survived      Pclass         Age       SibSp  \\\n",
       "count   891.000000  891.000000  891.000000  714.000000  891.000000   \n",
       "mean    446.000000    0.383838    2.308642   29.699118    0.523008   \n",
       "std     257.353842    0.486592    0.836071   14.526497    1.102743   \n",
       "min       1.000000    0.000000    1.000000    0.420000    0.000000   \n",
       "25%     223.500000    0.000000    2.000000   20.125000    0.000000   \n",
       "50%     446.000000    0.000000    3.000000   28.000000    0.000000   \n",
       "75%     668.500000    1.000000    3.000000   38.000000    1.000000   \n",
       "max     891.000000    1.000000    3.000000   80.000000    8.000000   \n",
       "\n",
       "            Parch        Fare  \n",
       "count  891.000000  891.000000  \n",
       "mean     0.381594   32.204208  \n",
       "std      0.806057   49.693429  \n",
       "min      0.000000    0.000000  \n",
       "25%      0.000000    7.910400  \n",
       "50%      0.000000   14.454200  \n",
       "75%      0.000000   31.000000  \n",
       "max      6.000000  512.329200  "
      ]
     },
     "metadata": {},
     "output_type": "display_data"
    },
    {
     "name": "stdout",
     "output_type": "stream",
     "text": [
      "<class 'pandas.core.frame.DataFrame'>\n",
      "RangeIndex: 891 entries, 0 to 890\n",
      "Data columns (total 12 columns):\n",
      " #   Column       Non-Null Count  Dtype  \n",
      "---  ------       --------------  -----  \n",
      " 0   PassengerId  891 non-null    int64  \n",
      " 1   Survived     891 non-null    int64  \n",
      " 2   Pclass       891 non-null    int64  \n",
      " 3   Name         891 non-null    object \n",
      " 4   Sex          891 non-null    object \n",
      " 5   Age          714 non-null    float64\n",
      " 6   SibSp        891 non-null    int64  \n",
      " 7   Parch        891 non-null    int64  \n",
      " 8   Ticket       891 non-null    object \n",
      " 9   Fare         891 non-null    float64\n",
      " 10  Cabin        204 non-null    object \n",
      " 11  Embarked     889 non-null    object \n",
      "dtypes: float64(2), int64(5), object(5)\n",
      "memory usage: 83.7+ KB\n"
     ]
    },
    {
     "data": {
      "text/plain": [
       "None"
      ]
     },
     "metadata": {},
     "output_type": "display_data"
    },
    {
     "data": {
      "text/plain": [
       "<matplotlib.axes._subplots.AxesSubplot at 0x7fc7a14d9b10>"
      ]
     },
     "execution_count": 2,
     "metadata": {},
     "output_type": "execute_result"
    },
    {
     "data": {
      "image/png": "[encoded data removed]",
      "text/plain": [
       "<Figure size 1296x720 with 8 Axes>"
      ]
     },
     "metadata": {
      "needs_background": "light"
     },
     "output_type": "display_data"
    }
   ],
   "source": [
    "%matplotlib inline\n",
    "\n",
    "train_df = pd.read_csv('train.csv')\n",
    "test_df = pd.read_csv('test.csv')\n",
    "\n",
    "display(train_df.head())\n",
    "display(train_df.describe())\n",
    "display(train_df.info())\n",
    "\n",
    "#Charts for each attribute\n",
    "fig, axes = plt.subplots(2,4, figsize=(18, 10))\n",
    "sns.countplot(x='Survived', data=train_df, ax=axes[0, 0])\n",
    "sns.countplot(x='Sex', data=train_df, ax=axes[0, 1])\n",
    "sns.countplot(x='Embarked', data=train_df, ax=axes[0, 2])\n",
    "sns.countplot(x='Pclass', data=train_df, ax=axes[0, 3])\n",
    "sns.countplot(x='SibSp', data=train_df, ax=axes[1, 0])\n",
    "sns.countplot(x='Parch', data=train_df, ax=axes[1, 1])\n",
    "sns.distplot(train_df['Age'], ax=axes[1, 2])\n",
    "sns.distplot(train_df['Fare'], ax=axes[1, 3])"
   ]
  },
  {
   "cell_type": "markdown",
   "metadata": {},
   "source": [
    "### Data Cleaning"
   ]
  },
  {
   "cell_type": "code",
   "execution_count": 123,
   "metadata": {},
   "outputs": [],
   "source": [
    "def fam_survival(df):\n",
    "    survival = []\n",
    "    for i, row in df.iterrows():\n",
    "        if (row['Size']>1) & (row['Survived_max']==1):\n",
    "            survival.append(1)\n",
    "        elif (row['Size']>1) & (row['Survived_min']==0):\n",
    "            survival.append(0)\n",
    "        else:\n",
    "            survival.append(0.5)\n",
    "    return survival\n",
    "\n",
    "def group_survival(df):\n",
    "    survival_group = []\n",
    "    for i, row in df.iterrows():\n",
    "        if row['Ticket'] == 'Unknown':\n",
    "            survival_group.append(0.5)\n",
    "        elif (row['Survived_max'] == 1) & (row['Size']>1) :\n",
    "            survival_group.append(1)\n",
    "        elif (row['Survived_min'] == 0) & (row['Size']>1):\n",
    "            survival_group.append(0)\n",
    "        else:\n",
    "            survival_group.append(0.5)\n",
    "    return survival_group\n",
    "\n",
    "def family_size(df):\n",
    "    family_size = []\n",
    "    for i, row in df.iterrows():\n",
    "        if row['Family_size'] == 1:\n",
    "            family_size.append(0) #alone\n",
    "        elif row['Family_size'] <= 4:\n",
    "            family_size.append(1) #small family\n",
    "        else:\n",
    "            family_size.append(2) #big family\n",
    "    return family_size"
   ]
  },
  {
   "cell_type": "code",
   "execution_count": 182,
   "metadata": {},
   "outputs": [
    {
     "name": "stderr",
     "output_type": "stream",
     "text": [
      "/Users/jan/opt/anaconda3/lib/python3.7/site-packages/pandas/core/reshape/merge.py:618: UserWarning: merging between different levels can give an unintended result (2 levels on the left, 1 on the right)\n",
      "  warnings.warn(msg, UserWarning)\n",
      "/Users/jan/opt/anaconda3/lib/python3.7/site-packages/pandas/core/indexing.py:670: SettingWithCopyWarning: \n",
      "A value is trying to be set on a copy of a slice from a DataFrame\n",
      "\n",
      "See the caveats in the documentation: https://pandas.pydata.org/pandas-docs/stable/user_guide/indexing.html#returning-a-view-versus-a-copy\n",
      "  self._setitem_with_indexer(indexer, value)\n"
     ]
    },
    {
     "data": {
      "text/html": [
       "<div>\n",
       "<style scoped>\n",
       "    .dataframe tbody tr th:only-of-type {\n",
       "        vertical-align: middle;\n",
       "    }\n",
       "\n",
       "    .dataframe tbody tr th {\n",
       "        vertical-align: top;\n",
       "    }\n",
       "\n",
       "    .dataframe thead th {\n",
       "        text-align: right;\n",
       "    }\n",
       "</style>\n",
       "<table border=\"1\" class=\"dataframe\">\n",
       "  <thead>\n",
       "    <tr style=\"text-align: right;\">\n",
       "      <th></th>\n",
       "      <th>Pclass</th>\n",
       "      <th>Age</th>\n",
       "      <th>Fare</th>\n",
       "      <th>Cabin</th>\n",
       "      <th>Embarked</th>\n",
       "      <th>Title</th>\n",
       "      <th>Family_survival</th>\n",
       "      <th>Sex</th>\n",
       "      <th>Family_size</th>\n",
       "    </tr>\n",
       "  </thead>\n",
       "  <tbody>\n",
       "    <tr>\n",
       "      <th>0</th>\n",
       "      <td>3</td>\n",
       "      <td>0</td>\n",
       "      <td>0</td>\n",
       "      <td>0</td>\n",
       "      <td>0</td>\n",
       "      <td>0</td>\n",
       "      <td>0.5</td>\n",
       "      <td>1</td>\n",
       "      <td>1</td>\n",
       "    </tr>\n",
       "    <tr>\n",
       "      <th>1</th>\n",
       "      <td>1</td>\n",
       "      <td>3</td>\n",
       "      <td>5</td>\n",
       "      <td>1</td>\n",
       "      <td>1</td>\n",
       "      <td>1</td>\n",
       "      <td>1.0</td>\n",
       "      <td>0</td>\n",
       "      <td>1</td>\n",
       "    </tr>\n",
       "    <tr>\n",
       "      <th>3</th>\n",
       "      <td>3</td>\n",
       "      <td>1</td>\n",
       "      <td>1</td>\n",
       "      <td>0</td>\n",
       "      <td>0</td>\n",
       "      <td>2</td>\n",
       "      <td>0.5</td>\n",
       "      <td>0</td>\n",
       "      <td>0</td>\n",
       "    </tr>\n",
       "    <tr>\n",
       "      <th>4</th>\n",
       "      <td>1</td>\n",
       "      <td>2</td>\n",
       "      <td>4</td>\n",
       "      <td>1</td>\n",
       "      <td>0</td>\n",
       "      <td>1</td>\n",
       "      <td>1.0</td>\n",
       "      <td>0</td>\n",
       "      <td>1</td>\n",
       "    </tr>\n",
       "    <tr>\n",
       "      <th>6</th>\n",
       "      <td>3</td>\n",
       "      <td>2</td>\n",
       "      <td>1</td>\n",
       "      <td>0</td>\n",
       "      <td>0</td>\n",
       "      <td>0</td>\n",
       "      <td>0.5</td>\n",
       "      <td>1</td>\n",
       "      <td>0</td>\n",
       "    </tr>\n",
       "  </tbody>\n",
       "</table>\n",
       "</div>"
      ],
      "text/plain": [
       "   Pclass  Age  Fare  Cabin  Embarked  Title  Family_survival  Sex  \\\n",
       "0       3    0     0      0         0      0              0.5    1   \n",
       "1       1    3     5      1         1      1              1.0    0   \n",
       "3       3    1     1      0         0      2              0.5    0   \n",
       "4       1    2     4      1         0      1              1.0    0   \n",
       "6       3    2     1      0         0      0              0.5    1   \n",
       "\n",
       "   Family_size  \n",
       "0            1  \n",
       "1            1  \n",
       "3            0  \n",
       "4            1  \n",
       "6            0  "
      ]
     },
     "metadata": {},
     "output_type": "display_data"
    },
    {
     "name": "stdout",
     "output_type": "stream",
     "text": [
      "<class 'pandas.core.frame.DataFrame'>\n",
      "Int64Index: 891 entries, 0 to 1061\n",
      "Data columns (total 9 columns):\n",
      " #   Column           Non-Null Count  Dtype  \n",
      "---  ------           --------------  -----  \n",
      " 0   Pclass           891 non-null    int64  \n",
      " 1   Age              891 non-null    int64  \n",
      " 2   Fare             891 non-null    int64  \n",
      " 3   Cabin            891 non-null    int64  \n",
      " 4   Embarked         891 non-null    int64  \n",
      " 5   Title            891 non-null    int64  \n",
      " 6   Family_survival  891 non-null    float64\n",
      " 7   Sex              891 non-null    uint8  \n",
      " 8   Family_size      891 non-null    int64  \n",
      "dtypes: float64(1), int64(7), uint8(1)\n",
      "memory usage: 63.5 KB\n",
      "None\n"
     ]
    }
   ],
   "source": [
    "#Both are needed later\n",
    "y_train = train_df['Survived']\n",
    "passID = test_df['PassengerId']\n",
    "\n",
    "#make sure we don't mix the records\n",
    "train_df['df'] = 'train'\n",
    "test_df['df'] = 'test'\n",
    "\n",
    "#combine both datasets\n",
    "full_df = pd.concat([train_df, test_df], axis=0, ignore_index=True)\n",
    "\n",
    "#extract title of column name\n",
    "full_df['Title'] = [x for x in full_df['Name'].map(lambda x: x.split(', ')[1].split('.')[0])]\n",
    "dict_titles = {'Mr': 'Mr', 'Mrs': 'Mrs', 'Miss': 'Miss', 'Master': 'Master', 'Don': 'Mr', 'Rev': 'Mr', \n",
    "               'Dr': 'Mr', 'Mme': 'Mrs', 'Ms': 'Miss', 'Major': 'Mr', 'Lady': 'Mrs', 'Sir': 'Mr',\n",
    "               'Mlle': 'Miss', 'Col': 'Mr', 'Capt': 'Mr', 'the Countess': 'Mrs', 'Jonkheer': 'Mr', 'Dona': 'Mrs'}\n",
    "full_df['Title'] = full_df['Title'].replace(dict_titles)\n",
    "full_df['Title'] = full_df['Title'].replace({'Mr': 0, 'Mrs': 1, 'Miss': 2, 'Master': 3})\n",
    "\n",
    "#get family information and see one in the family survived -> if yes then 1, if no then 0, if no family then 0.5\n",
    "full_df['Last_name'] = full_df['Name'].apply(lambda x: str.split(x, ',')[0])\n",
    "full_df['Fare_family'] = full_df['Fare'].fillna(full_df['Fare'].mean())\n",
    "\n",
    "families_survived_min = full_df[['Last_name', 'Fare_family', 'Survived']].groupby(['Last_name', 'Fare_family']).min().reset_index()\n",
    "families_survived_max = full_df[['Last_name', 'Fare_family', 'Survived']].groupby(['Last_name', 'Fare_family']).max().reset_index()\n",
    "families_size = full_df[['Last_name', 'Fare_family']].groupby(['Last_name', 'Fare_family']).size().to_frame().reset_index()\n",
    "families = families_survived_min.merge(families_survived_max, on=['Last_name', 'Fare_family'], suffixes=['_min', '_max'])\n",
    "families = families.merge(families_size, on=['Last_name', 'Fare_family'])\n",
    "families.columns = ['Last_name', 'Fare_family', 'Survived_min', 'Survived_max', 'Size']\n",
    "families['Family_survival'] = fam_survival(families)\n",
    "families_to_merge = families[['Last_name', 'Fare_family', 'Family_survival']]\n",
    "full_df = full_df.merge(families_to_merge, on=['Last_name', 'Fare_family'])\n",
    "\n",
    "#get family survival for groups if no family survival information\n",
    "full_df['Ticket'] = full_df['Ticket'].fillna('Unknown')\n",
    "groups_survived = full_df[['Ticket', 'Survived']].groupby(['Ticket']).agg(['min', 'max']).reset_index()\n",
    "groups_survived_size = full_df[['Ticket', 'Survived']].groupby(['Ticket']).size().to_frame().reset_index()\n",
    "groups_survived = groups_survived.merge(groups_survived_size, on='Ticket')\n",
    "groups_survived = groups_survived.drop(columns=['Ticket'], axis=1)\n",
    "groups_survived.columns = ['Ticket', 'Survived_min', 'Survived_max', 'Size']\n",
    "groups_survived['Group_survival'] = group_survival(groups_survived)\n",
    "\n",
    "full_df = full_df.merge(groups_survived[['Ticket', 'Group_survival']],on='Ticket')\n",
    "full_df.loc[full_df['Family_survival']==0.5, 'Family_survival'] = full_df['Group_survival'] \n",
    "\n",
    "#encode Sex column\n",
    "full_df = pd.get_dummies(data=full_df, columns=['Sex'], drop_first=True)\n",
    "full_df.rename({'Sex_male': 'Sex'}, inplace=True, axis=1)\n",
    "\n",
    "#column Age: fill null values with median and put into 4 equally big buckets\n",
    "full_df['Age'] = full_df['Age'].fillna(full_df['Age'].median())\n",
    "full_df['Age'] = pd.qcut(full_df['Age'], q=4, labels=[0,1,2,3])\n",
    "full_df['Age'] = pd.to_numeric(full_df['Age'])\n",
    "\n",
    "#column SibSp / Parch: combine both because seems to be family related\n",
    "full_df['Family_size'] = full_df['SibSp'] + full_df['Parch'] + 1\n",
    "full_df['Family_size'] = family_size(full_df)\n",
    "\n",
    "#column Fare: fill null values with median and put into 4 equally big buckets\n",
    "full_df['Fare'] = full_df['Fare'].fillna(full_df['Fare'].median())\n",
    "full_df['Fare'] = pd.qcut(full_df['Fare'], q=6, labels=[0,1,2,3,4,5])\n",
    "full_df['Fare'] = pd.to_numeric(full_df['Fare'])\n",
    "full_df = full_df.sort_values(by='PassengerId')\n",
    "\n",
    "#column Embarked: fill null values with mode and hot encode it\n",
    "full_df['Embarked'] = full_df['Embarked'].fillna(full_df['Embarked'].mode())\n",
    "full_df.iloc[61,10] = 'S'\n",
    "full_df.iloc[829,10] = 'S'\n",
    "full_df['Embarked'] = full_df['Embarked'].replace({'S':0, 'C':1, 'Q':2})\n",
    "\n",
    "#column cabin: fill null values with unknown and hot encode it\n",
    "full_df['Cabin'].loc[~full_df['Cabin'].isnull()] = 1 #known\n",
    "full_df['Cabin'] = full_df['Cabin'].fillna(0) #unknown\n",
    "\n",
    "#drop unnecessary columns\n",
    "columns_drop = ['PassengerId','Name', 'SibSp', 'Parch', 'Ticket', 'Last_name', 'Fare_family', 'Group_survival', 'Survived']\n",
    "full_df = full_df.drop(columns=columns_drop, axis=1)\n",
    "\n",
    "\n",
    "#split train and test dataset again\n",
    "X = full_df[full_df['df']=='train']\n",
    "X = X.drop(columns=['df'], axis=1)\n",
    "X_test = full_df[full_df['df']=='test']\n",
    "X_test = X_test.drop(columns=['df'], axis=1)\n",
    "\n",
    "display(X.head())\n",
    "print(X.info())\n"
   ]
  },
  {
   "cell_type": "markdown",
   "metadata": {},
   "source": [
    "### Building simple models"
   ]
  },
  {
   "cell_type": "code",
   "execution_count": 183,
   "metadata": {},
   "outputs": [
    {
     "data": {
      "text/html": [
       "<div>\n",
       "<style scoped>\n",
       "    .dataframe tbody tr th:only-of-type {\n",
       "        vertical-align: middle;\n",
       "    }\n",
       "\n",
       "    .dataframe tbody tr th {\n",
       "        vertical-align: top;\n",
       "    }\n",
       "\n",
       "    .dataframe thead th {\n",
       "        text-align: right;\n",
       "    }\n",
       "</style>\n",
       "<table border=\"1\" class=\"dataframe\">\n",
       "  <thead>\n",
       "    <tr style=\"text-align: right;\">\n",
       "      <th></th>\n",
       "      <th>model name</th>\n",
       "      <th>scores simple</th>\n",
       "    </tr>\n",
       "  </thead>\n",
       "  <tbody>\n",
       "    <tr>\n",
       "      <th>0</th>\n",
       "      <td>LogisticRegression</td>\n",
       "      <td>0.876542</td>\n",
       "    </tr>\n",
       "    <tr>\n",
       "      <th>1</th>\n",
       "      <td>SVC</td>\n",
       "      <td>0.869788</td>\n",
       "    </tr>\n",
       "    <tr>\n",
       "      <th>2</th>\n",
       "      <td>RandomForestClassifier</td>\n",
       "      <td>0.869763</td>\n",
       "    </tr>\n",
       "    <tr>\n",
       "      <th>3</th>\n",
       "      <td>XGBClassifier</td>\n",
       "      <td>0.866429</td>\n",
       "    </tr>\n",
       "  </tbody>\n",
       "</table>\n",
       "</div>"
      ],
      "text/plain": [
       "               model name  scores simple\n",
       "0      LogisticRegression       0.876542\n",
       "1                     SVC       0.869788\n",
       "2  RandomForestClassifier       0.869763\n",
       "3           XGBClassifier       0.866429"
      ]
     },
     "metadata": {},
     "output_type": "display_data"
    }
   ],
   "source": [
    "#Standard scaling the datasets\n",
    "scaler = StandardScaler()\n",
    "X_train = scaler.fit_transform(X)\n",
    "X_test_real = scaler.transform(X_test)\n",
    "\n",
    "#dataframe to compare scores\n",
    "model_names = {'model name': ['LogisticRegression', 'SVC', 'RandomForestClassifier', 'XGBClassifier']}\n",
    "score_df = pd.DataFrame(model_names)\n",
    "\n",
    "\n",
    "#Initiate models\n",
    "logreg = LogisticRegression()\n",
    "svc = SVC(probability=True)\n",
    "rfc = RandomForestClassifier(random_state=1)\n",
    "xgbc = xgb.XGBClassifier(random_state=1)\n",
    "\n",
    "models = [logreg, svc, rfc, xgbc]\n",
    "scores_v1 = []\n",
    "\n",
    "for model in models:\n",
    "    model.fit(X_train, y_train)\n",
    "    score = cross_val_score(model, X_train, y_train, scoring='accuracy', cv=10)\n",
    "    scores_v1.append(score.mean())\n",
    "    \n",
    "score_df['scores simple'] = scores_v1\n",
    "display(score_df)"
   ]
  },
  {
   "cell_type": "markdown",
   "metadata": {},
   "source": [
    "### Feature Selection"
   ]
  },
  {
   "cell_type": "code",
   "execution_count": 184,
   "metadata": {},
   "outputs": [
    {
     "name": "stdout",
     "output_type": "stream",
     "text": [
      "           feature  importance\n",
      "0           Pclass    0.090226\n",
      "1              Age    0.133459\n",
      "2             Fare    0.176692\n",
      "3            Cabin    0.080827\n",
      "4         Embarked    0.073308\n",
      "5            Title    0.107143\n",
      "6  Family_survival    0.206767\n",
      "7              Sex    0.060150\n",
      "8      Family_size    0.071429\n",
      "           feature  importance\n",
      "0           Pclass    0.090226\n",
      "1              Age    0.133459\n",
      "2             Fare    0.176692\n",
      "3            Cabin    0.080827\n",
      "4         Embarked    0.073308\n",
      "5            Title    0.107143\n",
      "6  Family_survival    0.206767\n",
      "7              Sex    0.060150\n",
      "8      Family_size    0.071429\n",
      "           feature  importance\n",
      "0           Pclass   -0.273019\n",
      "1              Age   -0.167864\n",
      "2             Fare    0.049070\n",
      "3            Cabin    0.426868\n",
      "4         Embarked   -0.024683\n",
      "5            Title    0.670549\n",
      "6  Family_survival    1.846424\n",
      "7              Sex   -1.010197\n",
      "8      Family_size   -0.744601\n"
     ]
    },
    {
     "data": {
      "text/html": [
       "<div>\n",
       "<style scoped>\n",
       "    .dataframe tbody tr th:only-of-type {\n",
       "        vertical-align: middle;\n",
       "    }\n",
       "\n",
       "    .dataframe tbody tr th {\n",
       "        vertical-align: top;\n",
       "    }\n",
       "\n",
       "    .dataframe thead th {\n",
       "        text-align: right;\n",
       "    }\n",
       "</style>\n",
       "<table border=\"1\" class=\"dataframe\">\n",
       "  <thead>\n",
       "    <tr style=\"text-align: right;\">\n",
       "      <th></th>\n",
       "      <th>model name</th>\n",
       "      <th>scores simple</th>\n",
       "      <th>scores selection</th>\n",
       "    </tr>\n",
       "  </thead>\n",
       "  <tbody>\n",
       "    <tr>\n",
       "      <th>0</th>\n",
       "      <td>LogisticRegression</td>\n",
       "      <td>0.876542</td>\n",
       "      <td>0.863109</td>\n",
       "    </tr>\n",
       "    <tr>\n",
       "      <th>1</th>\n",
       "      <td>SVC</td>\n",
       "      <td>0.869788</td>\n",
       "      <td>0.872010</td>\n",
       "    </tr>\n",
       "    <tr>\n",
       "      <th>2</th>\n",
       "      <td>RandomForestClassifier</td>\n",
       "      <td>0.869763</td>\n",
       "      <td>0.865256</td>\n",
       "    </tr>\n",
       "    <tr>\n",
       "      <th>3</th>\n",
       "      <td>XGBClassifier</td>\n",
       "      <td>0.866429</td>\n",
       "      <td>0.875393</td>\n",
       "    </tr>\n",
       "  </tbody>\n",
       "</table>\n",
       "</div>"
      ],
      "text/plain": [
       "               model name  scores simple  scores selection\n",
       "0      LogisticRegression       0.876542          0.863109\n",
       "1                     SVC       0.869788          0.872010\n",
       "2  RandomForestClassifier       0.869763          0.865256\n",
       "3           XGBClassifier       0.866429          0.875393"
      ]
     },
     "metadata": {},
     "output_type": "display_data"
    }
   ],
   "source": [
    "#get feature importance\n",
    "feature_imp = pd.DataFrame({'feature': X.columns.to_list(), 'importance': xgbc.feature_importances_ })\n",
    "print(feature_imp)\n",
    "\n",
    "feature_imp_rfc = pd.DataFrame({'feature': X.columns.to_list(), 'importance': rfc.feature_importances_ })\n",
    "print(feature_imp)\n",
    "\n",
    "feature_imp_logreg = pd.DataFrame({'feature': X.columns.to_list(), 'importance': logreg.coef_[0]})\n",
    "print(feature_imp_logreg)\n",
    "\n",
    "\n",
    "#remove embarked features\n",
    "X = X.drop(columns=['Embarked', 'Sex'], axis=1)\n",
    "X_test = X_test.drop(columns=['Embarked', 'Sex'], axis=1)\n",
    "\n",
    "#Scaling new data set\n",
    "X_train = scaler.fit_transform(X)\n",
    "X_test_real = scaler.transform(X_test)\n",
    "\n",
    "#Models with feature selection\n",
    "scores_v2 = []\n",
    "\n",
    "for model in models:\n",
    "    model.fit(X_train, y_train)\n",
    "    score = cross_val_score(model, X_train, y_train, scoring='accuracy', cv=10)\n",
    "    scores_v2.append(score.mean())\n",
    "    \n",
    "score_df['scores selection'] = scores_v2\n",
    "display(score_df)"
   ]
  },
  {
   "cell_type": "markdown",
   "metadata": {},
   "source": [
    "### Hyperparameter Tuning"
   ]
  },
  {
   "cell_type": "code",
   "execution_count": 185,
   "metadata": {},
   "outputs": [
    {
     "name": "stdout",
     "output_type": "stream",
     "text": [
      "Fitting 10 folds for each of 50 candidates, totalling 500 fits\n"
     ]
    },
    {
     "name": "stderr",
     "output_type": "stream",
     "text": [
      "[Parallel(n_jobs=1)]: Using backend SequentialBackend with 1 concurrent workers.\n"
     ]
    },
    {
     "name": "stdout",
     "output_type": "stream",
     "text": [
      "{'C': 2.7825594022071245, 'solver': 'newton-cg'}\n",
      "0.8642197253433208\n"
     ]
    },
    {
     "name": "stderr",
     "output_type": "stream",
     "text": [
      "[Parallel(n_jobs=1)]: Done 500 out of 500 | elapsed:    2.4s finished\n"
     ]
    }
   ],
   "source": [
    "#Grid Search Logistic Regression\n",
    "params_logreg = {'C': np.logspace(0, 4, 10), 'solver':['newton-cg', 'lbfgs', 'liblinear', 'sag', 'saga']}\n",
    "\n",
    "grid_logreg = GridSearchCV(estimator = LogisticRegression(), param_grid = params_logreg, verbose = True,\n",
    "                          scoring = 'accuracy', cv=10)\n",
    "\n",
    "grid_logreg.fit(X_train, y_train)\n",
    "print(grid_logreg.best_params_)\n",
    "print(grid_logreg.best_score_)\n",
    "\n",
    "#best parameters: C: 2.7825594022071245 and solver: newton-cg"
   ]
  },
  {
   "cell_type": "code",
   "execution_count": 151,
   "metadata": {},
   "outputs": [
    {
     "name": "stdout",
     "output_type": "stream",
     "text": [
      "Fitting 10 folds for each of 40 candidates, totalling 400 fits\n"
     ]
    },
    {
     "name": "stderr",
     "output_type": "stream",
     "text": [
      "[Parallel(n_jobs=1)]: Using backend SequentialBackend with 1 concurrent workers.\n"
     ]
    },
    {
     "name": "stdout",
     "output_type": "stream",
     "text": [
      "{'C': 0.1, 'gamma': 0.01}\n",
      "0.876541822721598\n"
     ]
    },
    {
     "name": "stderr",
     "output_type": "stream",
     "text": [
      "[Parallel(n_jobs=1)]: Done 400 out of 400 | elapsed:   23.6s finished\n"
     ]
    }
   ],
   "source": [
    "#Grid Search SVC\n",
    "params_svc = {'C': [0.001, 0.01, 0.1, 1, 5, 10, 15, 20, 50, 100], 'gamma': [0.001, 0.01, 0.1, 1]}\n",
    "\n",
    "grid_svc = GridSearchCV(estimator = SVC(probability=True), param_grid = params_svc, verbose = True,\n",
    "                          scoring = 'accuracy', cv=10)\n",
    "grid_svc.fit(X_train, y_train)\n",
    "print(grid_svc.best_params_)\n",
    "print(grid_svc.best_score_)\n",
    "#best parameter: C:0.1 gamma: 0.01"
   ]
  },
  {
   "cell_type": "code",
   "execution_count": 153,
   "metadata": {},
   "outputs": [
    {
     "name": "stdout",
     "output_type": "stream",
     "text": [
      "Fitting 10 folds for each of 1250 candidates, totalling 12500 fits\n"
     ]
    },
    {
     "name": "stderr",
     "output_type": "stream",
     "text": [
      "[Parallel(n_jobs=4)]: Using backend LokyBackend with 4 concurrent workers.\n",
      "[Parallel(n_jobs=4)]: Done  76 tasks      | elapsed:    2.8s\n",
      "[Parallel(n_jobs=4)]: Done 376 tasks      | elapsed:   15.2s\n",
      "[Parallel(n_jobs=4)]: Done 876 tasks      | elapsed:   37.4s\n",
      "[Parallel(n_jobs=4)]: Done 1576 tasks      | elapsed:  1.1min\n",
      "[Parallel(n_jobs=4)]: Done 2476 tasks      | elapsed:  1.8min\n",
      "[Parallel(n_jobs=4)]: Done 3576 tasks      | elapsed:  2.6min\n",
      "[Parallel(n_jobs=4)]: Done 4876 tasks      | elapsed:  3.7min\n",
      "[Parallel(n_jobs=4)]: Done 6376 tasks      | elapsed:  5.0min\n",
      "[Parallel(n_jobs=4)]: Done 8076 tasks      | elapsed:  6.6min\n",
      "[Parallel(n_jobs=4)]: Done 9976 tasks      | elapsed:  8.3min\n",
      "[Parallel(n_jobs=4)]: Done 12076 tasks      | elapsed: 10.4min\n"
     ]
    },
    {
     "name": "stdout",
     "output_type": "stream",
     "text": [
      "{'max_depth': None, 'max_features': 1, 'min_samples_leaf': 2, 'min_samples_split': 2, 'n_estimators': 75}\n",
      "0.8753932584269662\n"
     ]
    },
    {
     "name": "stderr",
     "output_type": "stream",
     "text": [
      "[Parallel(n_jobs=4)]: Done 12500 out of 12500 | elapsed: 10.9min finished\n"
     ]
    }
   ],
   "source": [
    "#Grid Search RandomForestClassifier\n",
    "params_rfc = {'n_estimators': [10, 25, 50, 75, 100], 'max_depth': [3, None], 'max_features': [1, 3, 5, 6, 8],\n",
    "             'min_samples_split': [2, 4, 6, 8, 10], 'min_samples_leaf': [2, 4, 6, 8, 10]}\n",
    "\n",
    "grid_rfc = GridSearchCV(estimator = RandomForestClassifier(random_state=1), param_grid = params_rfc, verbose = True,\n",
    "                          scoring = 'accuracy', cv=10, n_jobs=4)\n",
    "grid_rfc.fit(X_train, y_train)\n",
    "print(grid_rfc.best_params_)\n",
    "print(grid_rfc.best_score_)\n",
    "\n",
    "#best parameters: {'max_depth': None, 'max_features': 1, 'min_samples_leaf': 2, 'min_samples_split': 2, 'n_estimators': 75}"
   ]
  },
  {
   "cell_type": "code",
   "execution_count": 154,
   "metadata": {},
   "outputs": [
    {
     "name": "stdout",
     "output_type": "stream",
     "text": [
      "Fitting 10 folds for each of 72 candidates, totalling 720 fits\n"
     ]
    },
    {
     "name": "stderr",
     "output_type": "stream",
     "text": [
      "[Parallel(n_jobs=4)]: Using backend LokyBackend with 4 concurrent workers.\n",
      "[Parallel(n_jobs=4)]: Done 101 tasks      | elapsed:    7.1s\n",
      "[Parallel(n_jobs=4)]: Done 313 tasks      | elapsed:   23.5s\n",
      "[Parallel(n_jobs=4)]: Done 642 tasks      | elapsed:   54.4s\n"
     ]
    },
    {
     "name": "stdout",
     "output_type": "stream",
     "text": [
      "XGBClassifier(base_score=0.5, booster='gbtree', colsample_bylevel=1,\n",
      "              colsample_bytree=1, gamma=0, learning_rate=0.1, max_delta_step=0,\n",
      "              max_depth=3, min_child_weight=1, missing=None, n_estimators=100,\n",
      "              n_jobs=1, nthread=None, objective='binary:logistic',\n",
      "              random_state=1, reg_alpha=0, reg_lambda=1, scale_pos_weight=1,\n",
      "              seed=None, silent=True, subsample=1)\n",
      "0.8798626716604245\n"
     ]
    },
    {
     "name": "stderr",
     "output_type": "stream",
     "text": [
      "[Parallel(n_jobs=4)]: Done 720 out of 720 | elapsed:  1.1min finished\n"
     ]
    }
   ],
   "source": [
    "#XGBClassifier step 1\n",
    "params_xgbc = {'learning_rate': [0.0001, 0.0005, 0.001, 0.005, 0.01, 0.05, 0.1, 0.2], \n",
    "               'n_estimators': [10, 25, 50, 75, 100, 250, 500, 750, 1000]}\n",
    "grid_xgbc = GridSearchCV(estimator = xgb.XGBClassifier(random_state=1), param_grid = params_xgbc, verbose = True,\n",
    "                          scoring = 'accuracy', cv=10, n_jobs=4)\n",
    "grid_xgbc.fit(X_train, y_train)\n",
    "print(grid_xgbc.best_estimator_)\n",
    "print(grid_xgbc.best_score_)\n",
    "#best params: learning_rate: 0.1, n_estimators: 100"
   ]
  },
  {
   "cell_type": "code",
   "execution_count": 155,
   "metadata": {},
   "outputs": [
    {
     "name": "stdout",
     "output_type": "stream",
     "text": [
      "Fitting 10 folds for each of 48 candidates, totalling 480 fits\n"
     ]
    },
    {
     "name": "stderr",
     "output_type": "stream",
     "text": [
      "[Parallel(n_jobs=4)]: Using backend LokyBackend with 4 concurrent workers.\n",
      "[Parallel(n_jobs=4)]: Done  76 tasks      | elapsed:    2.4s\n",
      "[Parallel(n_jobs=4)]: Done 376 tasks      | elapsed:   14.8s\n"
     ]
    },
    {
     "name": "stdout",
     "output_type": "stream",
     "text": [
      "XGBClassifier(base_score=0.5, booster='gbtree', colsample_bylevel=1,\n",
      "              colsample_bytree=1, gamma=0, learning_rate=0.1, max_delta_step=0,\n",
      "              max_depth=3, min_child_weight=1, missing=None, n_estimators=100,\n",
      "              n_jobs=1, nthread=None, objective='binary:logistic',\n",
      "              random_state=1, reg_alpha=0, reg_lambda=1, scale_pos_weight=1,\n",
      "              seed=None, silent=True, subsample=1)\n",
      "0.8798626716604245\n"
     ]
    },
    {
     "name": "stderr",
     "output_type": "stream",
     "text": [
      "[Parallel(n_jobs=4)]: Done 480 out of 480 | elapsed:   19.8s finished\n"
     ]
    }
   ],
   "source": [
    "#XGBClassifier step 2\n",
    "params_xgbc = {'max_depth': [3, 4, 5, 6, 7, 8, 9, 10], \n",
    "               'min_child_weight': [1, 2, 3, 4, 5, 6]}\n",
    "grid_xgbc = GridSearchCV(estimator = xgb.XGBClassifier(random_state=1, learning_rate=0.1, n_estimators=100),\n",
    "                         param_grid = params_xgbc, verbose = True, \n",
    "                         scoring = 'accuracy', cv=10, n_jobs=4)\n",
    "grid_xgbc.fit(X_train, y_train)\n",
    "print(grid_xgbc.best_estimator_)\n",
    "print(grid_xgbc.best_score_)\n",
    "#best params: max_depth: 3, min_child_weight: 1"
   ]
  },
  {
   "cell_type": "code",
   "execution_count": 156,
   "metadata": {},
   "outputs": [
    {
     "name": "stdout",
     "output_type": "stream",
     "text": [
      "Fitting 10 folds for each of 5 candidates, totalling 50 fits\n"
     ]
    },
    {
     "name": "stderr",
     "output_type": "stream",
     "text": [
      "[Parallel(n_jobs=4)]: Using backend LokyBackend with 4 concurrent workers.\n"
     ]
    },
    {
     "name": "stdout",
     "output_type": "stream",
     "text": [
      "XGBClassifier(base_score=0.5, booster='gbtree', colsample_bylevel=1,\n",
      "              colsample_bytree=1, gamma=0.0, learning_rate=0.1,\n",
      "              max_delta_step=0, max_depth=3, min_child_weight=1, missing=None,\n",
      "              n_estimators=100, n_jobs=1, nthread=None,\n",
      "              objective='binary:logistic', random_state=1, reg_alpha=0,\n",
      "              reg_lambda=1, scale_pos_weight=1, seed=None, silent=True,\n",
      "              subsample=1)\n",
      "0.8798626716604245\n"
     ]
    },
    {
     "name": "stderr",
     "output_type": "stream",
     "text": [
      "[Parallel(n_jobs=4)]: Done  50 out of  50 | elapsed:    1.6s finished\n"
     ]
    }
   ],
   "source": [
    "#XGBClassifier step 3\n",
    "params_xgbc = {'gamma': [i*0.1 for i in range(0,5)]}\n",
    "grid_xgbc = GridSearchCV(estimator = xgb.XGBClassifier(random_state=1, learning_rate=0.1, n_estimators=100, \n",
    "                                                       max_depth=3, min_child_weight=1),\n",
    "                         param_grid = params_xgbc, verbose = True, \n",
    "                         scoring = 'accuracy', cv=10, n_jobs=4)\n",
    "grid_xgbc.fit(X_train, y_train)\n",
    "print(grid_xgbc.best_estimator_)\n",
    "print(grid_xgbc.best_score_)\n",
    "#best param: gamma: 0.0"
   ]
  },
  {
   "cell_type": "code",
   "execution_count": 157,
   "metadata": {},
   "outputs": [
    {
     "name": "stdout",
     "output_type": "stream",
     "text": [
      "Fitting 10 folds for each of 81 candidates, totalling 810 fits\n"
     ]
    },
    {
     "name": "stderr",
     "output_type": "stream",
     "text": [
      "[Parallel(n_jobs=4)]: Using backend LokyBackend with 4 concurrent workers.\n",
      "[Parallel(n_jobs=4)]: Done  76 tasks      | elapsed:    1.8s\n",
      "[Parallel(n_jobs=4)]: Done 376 tasks      | elapsed:    9.2s\n"
     ]
    },
    {
     "name": "stdout",
     "output_type": "stream",
     "text": [
      "XGBClassifier(base_score=0.5, booster='gbtree', colsample_bylevel=1,\n",
      "              colsample_bytree=0.6, gamma=0.0, learning_rate=0.1,\n",
      "              max_delta_step=0, max_depth=3, min_child_weight=1, missing=None,\n",
      "              n_estimators=100, n_jobs=1, nthread=None,\n",
      "              objective='binary:logistic', random_state=1, reg_alpha=0,\n",
      "              reg_lambda=1, scale_pos_weight=1, seed=None, silent=True,\n",
      "              subsample=0.95)\n",
      "0.8798751560549313\n"
     ]
    },
    {
     "name": "stderr",
     "output_type": "stream",
     "text": [
      "[Parallel(n_jobs=4)]: Done 810 out of 810 | elapsed:   22.8s finished\n"
     ]
    }
   ],
   "source": [
    "#XGBClassifier step 4\n",
    "params_xgbc = {'subsample': [0.6, 0.65, 0.7, 0.75, 0.8, 0.85, 0.9, 0.95, 1], \n",
    "               'colsample_bytree': [0.6, 0.65, 0.7, 0.75, 0.8, 0.85, 0.9, 0.95, 1] }\n",
    "grid_xgbc = GridSearchCV(estimator = xgb.XGBClassifier(random_state=1, learning_rate=0.1, n_estimators=100, \n",
    "                                                       max_depth=3, min_child_weight=1, gamma=0.0),\n",
    "                         param_grid = params_xgbc, verbose = True, \n",
    "                         scoring = 'accuracy', cv=10, n_jobs=4)\n",
    "grid_xgbc.fit(X_train, y_train)\n",
    "print(grid_xgbc.best_estimator_)\n",
    "print(grid_xgbc.best_score_)\n",
    "#best param: subsample: 0.95, colsample_bytree: 0.6"
   ]
  },
  {
   "cell_type": "code",
   "execution_count": 158,
   "metadata": {},
   "outputs": [
    {
     "name": "stdout",
     "output_type": "stream",
     "text": [
      "Fitting 10 folds for each of 5 candidates, totalling 50 fits\n"
     ]
    },
    {
     "name": "stderr",
     "output_type": "stream",
     "text": [
      "[Parallel(n_jobs=4)]: Using backend LokyBackend with 4 concurrent workers.\n"
     ]
    },
    {
     "name": "stdout",
     "output_type": "stream",
     "text": [
      "XGBClassifier(base_score=0.5, booster='gbtree', colsample_bylevel=1,\n",
      "              colsample_bytree=0.6, gamma=0.0, learning_rate=0.1,\n",
      "              max_delta_step=0, max_depth=3, min_child_weight=1, missing=None,\n",
      "              n_estimators=100, n_jobs=1, nthread=None,\n",
      "              objective='binary:logistic', random_state=1, reg_alpha=1e-05,\n",
      "              reg_lambda=1, scale_pos_weight=1, seed=None, silent=True,\n",
      "              subsample=0.95)\n",
      "0.8798751560549313\n"
     ]
    },
    {
     "name": "stderr",
     "output_type": "stream",
     "text": [
      "[Parallel(n_jobs=4)]: Done  50 out of  50 | elapsed:    1.2s finished\n"
     ]
    }
   ],
   "source": [
    "#XGBClassifier step 5\n",
    "params_xgbc = {'reg_alpha': [1e-5, 1e-2, 0.1, 1, 100]}\n",
    "grid_xgbc = GridSearchCV(estimator = xgb.XGBClassifier(random_state=1, learning_rate=0.1, n_estimators=100, \n",
    "                                                       max_depth=3, min_child_weight=1, gamma=0.0, subsample=0.95,\n",
    "                                                      colsample_bytree=0.6),\n",
    "                         param_grid = params_xgbc, verbose = True, \n",
    "                         scoring = 'accuracy', cv=10, n_jobs=4)\n",
    "grid_xgbc.fit(X_train, y_train)\n",
    "print(grid_xgbc.best_estimator_)\n",
    "print(grid_xgbc.best_score_)\n",
    "\n",
    "#best param: reg_alpha: 1e-05"
   ]
  },
  {
   "cell_type": "markdown",
   "metadata": {},
   "source": [
    "### Re-run the models with tuned hyperparameters"
   ]
  },
  {
   "cell_type": "code",
   "execution_count": 160,
   "metadata": {},
   "outputs": [
    {
     "data": {
      "text/html": [
       "<div>\n",
       "<style scoped>\n",
       "    .dataframe tbody tr th:only-of-type {\n",
       "        vertical-align: middle;\n",
       "    }\n",
       "\n",
       "    .dataframe tbody tr th {\n",
       "        vertical-align: top;\n",
       "    }\n",
       "\n",
       "    .dataframe thead th {\n",
       "        text-align: right;\n",
       "    }\n",
       "</style>\n",
       "<table border=\"1\" class=\"dataframe\">\n",
       "  <thead>\n",
       "    <tr style=\"text-align: right;\">\n",
       "      <th></th>\n",
       "      <th>model name</th>\n",
       "      <th>scores simple</th>\n",
       "      <th>scores selection</th>\n",
       "      <th>scores tuned</th>\n",
       "    </tr>\n",
       "  </thead>\n",
       "  <tbody>\n",
       "    <tr>\n",
       "      <th>0</th>\n",
       "      <td>LogisticRegression</td>\n",
       "      <td>0.876542</td>\n",
       "      <td>0.876542</td>\n",
       "      <td>0.876542</td>\n",
       "    </tr>\n",
       "    <tr>\n",
       "      <th>1</th>\n",
       "      <td>SVC</td>\n",
       "      <td>0.869788</td>\n",
       "      <td>0.872047</td>\n",
       "      <td>0.876542</td>\n",
       "    </tr>\n",
       "    <tr>\n",
       "      <th>2</th>\n",
       "      <td>RandomForestClassifier</td>\n",
       "      <td>0.869763</td>\n",
       "      <td>0.867516</td>\n",
       "      <td>0.875393</td>\n",
       "    </tr>\n",
       "    <tr>\n",
       "      <th>3</th>\n",
       "      <td>XGBClassifier</td>\n",
       "      <td>0.866429</td>\n",
       "      <td>0.879863</td>\n",
       "      <td>0.879875</td>\n",
       "    </tr>\n",
       "  </tbody>\n",
       "</table>\n",
       "</div>"
      ],
      "text/plain": [
       "               model name  scores simple  scores selection  scores tuned\n",
       "0      LogisticRegression       0.876542          0.876542      0.876542\n",
       "1                     SVC       0.869788          0.872047      0.876542\n",
       "2  RandomForestClassifier       0.869763          0.867516      0.875393\n",
       "3           XGBClassifier       0.866429          0.879863      0.879875"
      ]
     },
     "metadata": {},
     "output_type": "display_data"
    }
   ],
   "source": [
    "#Initiate models\n",
    "logreg_tuned = LogisticRegression(C=2.7825594022071245, solver='newton-cg')\n",
    "svc_tuned = SVC(probability=True, C=0.1, gamma=0.01)\n",
    "rfc_tuned = RandomForestClassifier(random_state=1, max_depth= None, max_features=1, \n",
    "                                   min_samples_leaf=2, min_samples_split=2, n_estimators=75)\n",
    "xgbc_tuned = xgb.XGBClassifier(random_state=1, learning_rate=0.1, n_estimators=100, \n",
    "                               max_depth=3, min_child_weight=1, gamma=0.0, subsample=0.95,\n",
    "                               colsample_bytree=0.6, reg_alpha=1e-05)\n",
    "models = [logreg_tuned, svc_tuned, rfc_tuned, xgbc_tuned]\n",
    "scores_v3 = []\n",
    "\n",
    "for model in models:\n",
    "    model.fit(X_train, y_train)\n",
    "    score = cross_val_score(model, X_train, y_train, scoring='accuracy', cv=10)\n",
    "    scores_v3.append(score.mean())\n",
    "    \n",
    "score_df['scores tuned'] = scores_v3\n",
    "display(score_df)"
   ]
  },
  {
   "cell_type": "markdown",
   "metadata": {},
   "source": [
    "### Combining Models via Voting Classifier"
   ]
  },
  {
   "cell_type": "code",
   "execution_count": 161,
   "metadata": {},
   "outputs": [
    {
     "name": "stdout",
     "output_type": "stream",
     "text": [
      "0.8798751560549313\n"
     ]
    }
   ],
   "source": [
    "#Hard Voting Classifier\n",
    "model_hard = VotingClassifier(estimators=[('SVC', svc_tuned), ('RandomForestClassifier', rfc_tuned),\n",
    "                                          ('XGBClassifier',xgbc_tuned)],\n",
    "                             voting='hard')\n",
    "score_hard = cross_val_score(model_hard, X_train, y_train, scoring='accuracy', cv=10)\n",
    "model_hard.fit(X_train, y_train)\n",
    "print(score_hard.mean())"
   ]
  },
  {
   "cell_type": "code",
   "execution_count": 162,
   "metadata": {},
   "outputs": [
    {
     "name": "stdout",
     "output_type": "stream",
     "text": [
      "0.8731460674157303\n"
     ]
    }
   ],
   "source": [
    "#Soft Voting Classifier\n",
    "model_soft = VotingClassifier(estimators=[('RandomForestClassifier', rfc_tuned), ('XGBClassifier',xgbc_tuned)],\n",
    "                             voting='soft')\n",
    "score_soft = cross_val_score(model_soft, X_train, y_train, scoring='accuracy', cv=10)\n",
    "model_soft.fit(X_train, y_train)\n",
    "print(score_soft.mean())"
   ]
  },
  {
   "cell_type": "markdown",
   "metadata": {},
   "source": [
    "### Making final submission"
   ]
  },
  {
   "cell_type": "code",
   "execution_count": 163,
   "metadata": {},
   "outputs": [
    {
     "data": {
      "text/html": [
       "<div>\n",
       "<style scoped>\n",
       "    .dataframe tbody tr th:only-of-type {\n",
       "        vertical-align: middle;\n",
       "    }\n",
       "\n",
       "    .dataframe tbody tr th {\n",
       "        vertical-align: top;\n",
       "    }\n",
       "\n",
       "    .dataframe thead th {\n",
       "        text-align: right;\n",
       "    }\n",
       "</style>\n",
       "<table border=\"1\" class=\"dataframe\">\n",
       "  <thead>\n",
       "    <tr style=\"text-align: right;\">\n",
       "      <th></th>\n",
       "      <th>PassengerId</th>\n",
       "      <th>Survived</th>\n",
       "    </tr>\n",
       "  </thead>\n",
       "  <tbody>\n",
       "    <tr>\n",
       "      <th>0</th>\n",
       "      <td>892</td>\n",
       "      <td>0</td>\n",
       "    </tr>\n",
       "    <tr>\n",
       "      <th>1</th>\n",
       "      <td>893</td>\n",
       "      <td>0</td>\n",
       "    </tr>\n",
       "    <tr>\n",
       "      <th>2</th>\n",
       "      <td>894</td>\n",
       "      <td>0</td>\n",
       "    </tr>\n",
       "    <tr>\n",
       "      <th>3</th>\n",
       "      <td>895</td>\n",
       "      <td>0</td>\n",
       "    </tr>\n",
       "    <tr>\n",
       "      <th>4</th>\n",
       "      <td>896</td>\n",
       "      <td>1</td>\n",
       "    </tr>\n",
       "    <tr>\n",
       "      <th>...</th>\n",
       "      <td>...</td>\n",
       "      <td>...</td>\n",
       "    </tr>\n",
       "    <tr>\n",
       "      <th>413</th>\n",
       "      <td>1305</td>\n",
       "      <td>0</td>\n",
       "    </tr>\n",
       "    <tr>\n",
       "      <th>414</th>\n",
       "      <td>1306</td>\n",
       "      <td>1</td>\n",
       "    </tr>\n",
       "    <tr>\n",
       "      <th>415</th>\n",
       "      <td>1307</td>\n",
       "      <td>0</td>\n",
       "    </tr>\n",
       "    <tr>\n",
       "      <th>416</th>\n",
       "      <td>1308</td>\n",
       "      <td>0</td>\n",
       "    </tr>\n",
       "    <tr>\n",
       "      <th>417</th>\n",
       "      <td>1309</td>\n",
       "      <td>1</td>\n",
       "    </tr>\n",
       "  </tbody>\n",
       "</table>\n",
       "<p>418 rows × 2 columns</p>\n",
       "</div>"
      ],
      "text/plain": [
       "     PassengerId  Survived\n",
       "0            892         0\n",
       "1            893         0\n",
       "2            894         0\n",
       "3            895         0\n",
       "4            896         1\n",
       "..           ...       ...\n",
       "413         1305         0\n",
       "414         1306         1\n",
       "415         1307         0\n",
       "416         1308         0\n",
       "417         1309         1\n",
       "\n",
       "[418 rows x 2 columns]"
      ]
     },
     "metadata": {},
     "output_type": "display_data"
    }
   ],
   "source": [
    "# prediction on new dataset\n",
    "y_pred = model_hard.predict(X_test_real)\n",
    "\n",
    "submission_df = pd.DataFrame({'PassengerId': passID, 'Survived': y_pred})\n",
    "display(submission_df)\n",
    "\n",
    "submission_df.to_csv('submission_v5_Hard_VotingClassifier.csv', index=False)"
   ]
  },
  {
   "cell_type": "code",
   "execution_count": 164,
   "metadata": {},
   "outputs": [
    {
     "data": {
      "text/html": [
       "<div>\n",
       "<style scoped>\n",
       "    .dataframe tbody tr th:only-of-type {\n",
       "        vertical-align: middle;\n",
       "    }\n",
       "\n",
       "    .dataframe tbody tr th {\n",
       "        vertical-align: top;\n",
       "    }\n",
       "\n",
       "    .dataframe thead th {\n",
       "        text-align: right;\n",
       "    }\n",
       "</style>\n",
       "<table border=\"1\" class=\"dataframe\">\n",
       "  <thead>\n",
       "    <tr style=\"text-align: right;\">\n",
       "      <th></th>\n",
       "      <th>PassengerId</th>\n",
       "      <th>Survived</th>\n",
       "    </tr>\n",
       "  </thead>\n",
       "  <tbody>\n",
       "    <tr>\n",
       "      <th>0</th>\n",
       "      <td>892</td>\n",
       "      <td>0</td>\n",
       "    </tr>\n",
       "    <tr>\n",
       "      <th>1</th>\n",
       "      <td>893</td>\n",
       "      <td>0</td>\n",
       "    </tr>\n",
       "    <tr>\n",
       "      <th>2</th>\n",
       "      <td>894</td>\n",
       "      <td>0</td>\n",
       "    </tr>\n",
       "    <tr>\n",
       "      <th>3</th>\n",
       "      <td>895</td>\n",
       "      <td>0</td>\n",
       "    </tr>\n",
       "    <tr>\n",
       "      <th>4</th>\n",
       "      <td>896</td>\n",
       "      <td>1</td>\n",
       "    </tr>\n",
       "    <tr>\n",
       "      <th>...</th>\n",
       "      <td>...</td>\n",
       "      <td>...</td>\n",
       "    </tr>\n",
       "    <tr>\n",
       "      <th>413</th>\n",
       "      <td>1305</td>\n",
       "      <td>0</td>\n",
       "    </tr>\n",
       "    <tr>\n",
       "      <th>414</th>\n",
       "      <td>1306</td>\n",
       "      <td>1</td>\n",
       "    </tr>\n",
       "    <tr>\n",
       "      <th>415</th>\n",
       "      <td>1307</td>\n",
       "      <td>0</td>\n",
       "    </tr>\n",
       "    <tr>\n",
       "      <th>416</th>\n",
       "      <td>1308</td>\n",
       "      <td>0</td>\n",
       "    </tr>\n",
       "    <tr>\n",
       "      <th>417</th>\n",
       "      <td>1309</td>\n",
       "      <td>1</td>\n",
       "    </tr>\n",
       "  </tbody>\n",
       "</table>\n",
       "<p>418 rows × 2 columns</p>\n",
       "</div>"
      ],
      "text/plain": [
       "     PassengerId  Survived\n",
       "0            892         0\n",
       "1            893         0\n",
       "2            894         0\n",
       "3            895         0\n",
       "4            896         1\n",
       "..           ...       ...\n",
       "413         1305         0\n",
       "414         1306         1\n",
       "415         1307         0\n",
       "416         1308         0\n",
       "417         1309         1\n",
       "\n",
       "[418 rows x 2 columns]"
      ]
     },
     "metadata": {},
     "output_type": "display_data"
    }
   ],
   "source": [
    "# prediction on new dataset\n",
    "y_pred = model_soft.predict(X_test_real)\n",
    "\n",
    "submission_df = pd.DataFrame({'PassengerId': passID, 'Survived': y_pred})\n",
    "display(submission_df)\n",
    "\n",
    "submission_df.to_csv('submission_v6_Soft_VotingClassifier.csv', index=False)"
   ]
  },
  {
   "cell_type": "code",
   "execution_count": 165,
   "metadata": {},
   "outputs": [
    {
     "data": {
      "text/html": [
       "<div>\n",
       "<style scoped>\n",
       "    .dataframe tbody tr th:only-of-type {\n",
       "        vertical-align: middle;\n",
       "    }\n",
       "\n",
       "    .dataframe tbody tr th {\n",
       "        vertical-align: top;\n",
       "    }\n",
       "\n",
       "    .dataframe thead th {\n",
       "        text-align: right;\n",
       "    }\n",
       "</style>\n",
       "<table border=\"1\" class=\"dataframe\">\n",
       "  <thead>\n",
       "    <tr style=\"text-align: right;\">\n",
       "      <th></th>\n",
       "      <th>PassengerId</th>\n",
       "      <th>Survived</th>\n",
       "    </tr>\n",
       "  </thead>\n",
       "  <tbody>\n",
       "    <tr>\n",
       "      <th>0</th>\n",
       "      <td>892</td>\n",
       "      <td>0</td>\n",
       "    </tr>\n",
       "    <tr>\n",
       "      <th>1</th>\n",
       "      <td>893</td>\n",
       "      <td>0</td>\n",
       "    </tr>\n",
       "    <tr>\n",
       "      <th>2</th>\n",
       "      <td>894</td>\n",
       "      <td>0</td>\n",
       "    </tr>\n",
       "    <tr>\n",
       "      <th>3</th>\n",
       "      <td>895</td>\n",
       "      <td>0</td>\n",
       "    </tr>\n",
       "    <tr>\n",
       "      <th>4</th>\n",
       "      <td>896</td>\n",
       "      <td>1</td>\n",
       "    </tr>\n",
       "    <tr>\n",
       "      <th>...</th>\n",
       "      <td>...</td>\n",
       "      <td>...</td>\n",
       "    </tr>\n",
       "    <tr>\n",
       "      <th>413</th>\n",
       "      <td>1305</td>\n",
       "      <td>0</td>\n",
       "    </tr>\n",
       "    <tr>\n",
       "      <th>414</th>\n",
       "      <td>1306</td>\n",
       "      <td>1</td>\n",
       "    </tr>\n",
       "    <tr>\n",
       "      <th>415</th>\n",
       "      <td>1307</td>\n",
       "      <td>0</td>\n",
       "    </tr>\n",
       "    <tr>\n",
       "      <th>416</th>\n",
       "      <td>1308</td>\n",
       "      <td>0</td>\n",
       "    </tr>\n",
       "    <tr>\n",
       "      <th>417</th>\n",
       "      <td>1309</td>\n",
       "      <td>1</td>\n",
       "    </tr>\n",
       "  </tbody>\n",
       "</table>\n",
       "<p>418 rows × 2 columns</p>\n",
       "</div>"
      ],
      "text/plain": [
       "     PassengerId  Survived\n",
       "0            892         0\n",
       "1            893         0\n",
       "2            894         0\n",
       "3            895         0\n",
       "4            896         1\n",
       "..           ...       ...\n",
       "413         1305         0\n",
       "414         1306         1\n",
       "415         1307         0\n",
       "416         1308         0\n",
       "417         1309         1\n",
       "\n",
       "[418 rows x 2 columns]"
      ]
     },
     "metadata": {},
     "output_type": "display_data"
    }
   ],
   "source": [
    "# prediction on new dataset\n",
    "y_pred = xgbc_tuned.predict(X_test_real)\n",
    "\n",
    "submission_df = pd.DataFrame({'PassengerId': passID, 'Survived': y_pred})\n",
    "display(submission_df)\n",
    "\n",
    "submission_df.to_csv('submission_v7_XGBClassifier_tuned.csv', index=False)"
   ]
  },
  {
   "cell_type": "code",
   "execution_count": null,
   "metadata": {},
   "outputs": [],
   "source": []
  }
 ],
 "metadata": {
  "kernelspec": {
   "display_name": "Python 3",
   "language": "python",
   "name": "python3"
  },
  "language_info": {
   "codemirror_mode": {
    "name": "ipython",
    "version": 3
   },
   "file_extension": ".py",
   "mimetype": "text/x-python",
   "name": "python",
   "nbconvert_exporter": "python",
   "pygments_lexer": "ipython3",
   "version": "3.7.6"
  }
 },
 "nbformat": 4,
 "nbformat_minor": 4
}
